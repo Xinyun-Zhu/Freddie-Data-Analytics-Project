{
 "cells": [
  {
   "cell_type": "code",
   "execution_count": 1,
   "metadata": {},
   "outputs": [
    {
     "data": {
      "text/html": [
       "<div>\n",
       "<style scoped>\n",
       "    .dataframe tbody tr th:only-of-type {\n",
       "        vertical-align: middle;\n",
       "    }\n",
       "\n",
       "    .dataframe tbody tr th {\n",
       "        vertical-align: top;\n",
       "    }\n",
       "\n",
       "    .dataframe thead th {\n",
       "        text-align: right;\n",
       "    }\n",
       "</style>\n",
       "<table border=\"1\" class=\"dataframe\">\n",
       "  <thead>\n",
       "    <tr style=\"text-align: right;\">\n",
       "      <th></th>\n",
       "      <th>CREDIT_SCORE</th>\n",
       "      <th>FIRST_PAYMENT_DATE</th>\n",
       "      <th>FIRST_TIME_HOMEBUYER_FLAG</th>\n",
       "      <th>MATURITY_DATE</th>\n",
       "      <th>MSA</th>\n",
       "      <th>MI</th>\n",
       "      <th>NUMBER_OF_UNITS</th>\n",
       "      <th>OCCUPANCY_STATUS</th>\n",
       "      <th>CLTV</th>\n",
       "      <th>ORIGINAL_DTI</th>\n",
       "      <th>...</th>\n",
       "      <th>PRODUCT_TYPE</th>\n",
       "      <th>PROPERTY_STATE</th>\n",
       "      <th>PROPERTY_TYPE</th>\n",
       "      <th>POSTAL_CODE</th>\n",
       "      <th>LOAN_SEQUENCE_NUMBER</th>\n",
       "      <th>LOAN_PURPOSE</th>\n",
       "      <th>ORIGINAL_LOAN_TERM</th>\n",
       "      <th>NUMBER_OF_BORROWERS</th>\n",
       "      <th>SELLER_NAME</th>\n",
       "      <th>SERVICER_NAME</th>\n",
       "    </tr>\n",
       "  </thead>\n",
       "  <tbody>\n",
       "    <tr>\n",
       "      <th>0</th>\n",
       "      <td>710</td>\n",
       "      <td>200803</td>\n",
       "      <td>N</td>\n",
       "      <td>203802</td>\n",
       "      <td>NaN</td>\n",
       "      <td>0</td>\n",
       "      <td>1</td>\n",
       "      <td>P</td>\n",
       "      <td>60</td>\n",
       "      <td>44</td>\n",
       "      <td>...</td>\n",
       "      <td>FRM</td>\n",
       "      <td>KY</td>\n",
       "      <td>SF</td>\n",
       "      <td>40400.0</td>\n",
       "      <td>F108Q1000136</td>\n",
       "      <td>C</td>\n",
       "      <td>360</td>\n",
       "      <td>1</td>\n",
       "      <td>Other sellers</td>\n",
       "      <td>Other servicers</td>\n",
       "    </tr>\n",
       "    <tr>\n",
       "      <th>1</th>\n",
       "      <td>752</td>\n",
       "      <td>200803</td>\n",
       "      <td>N</td>\n",
       "      <td>203802</td>\n",
       "      <td>38860.0</td>\n",
       "      <td>0</td>\n",
       "      <td>1</td>\n",
       "      <td>P</td>\n",
       "      <td>80</td>\n",
       "      <td>47</td>\n",
       "      <td>...</td>\n",
       "      <td>FRM</td>\n",
       "      <td>ME</td>\n",
       "      <td>SF</td>\n",
       "      <td>4000.0</td>\n",
       "      <td>F108Q1000216</td>\n",
       "      <td>C</td>\n",
       "      <td>360</td>\n",
       "      <td>1</td>\n",
       "      <td>Other sellers</td>\n",
       "      <td>Other servicers</td>\n",
       "    </tr>\n",
       "    <tr>\n",
       "      <th>2</th>\n",
       "      <td>738</td>\n",
       "      <td>200803</td>\n",
       "      <td>N</td>\n",
       "      <td>203802</td>\n",
       "      <td>NaN</td>\n",
       "      <td>35</td>\n",
       "      <td>1</td>\n",
       "      <td>P</td>\n",
       "      <td>100</td>\n",
       "      <td>13</td>\n",
       "      <td>...</td>\n",
       "      <td>FRM</td>\n",
       "      <td>IL</td>\n",
       "      <td>SF</td>\n",
       "      <td>61400.0</td>\n",
       "      <td>F108Q1000274</td>\n",
       "      <td>P</td>\n",
       "      <td>360</td>\n",
       "      <td>1</td>\n",
       "      <td>Other sellers</td>\n",
       "      <td>Other servicers</td>\n",
       "    </tr>\n",
       "    <tr>\n",
       "      <th>3</th>\n",
       "      <td>773</td>\n",
       "      <td>200803</td>\n",
       "      <td>Y</td>\n",
       "      <td>203802</td>\n",
       "      <td>45820.0</td>\n",
       "      <td>30</td>\n",
       "      <td>1</td>\n",
       "      <td>P</td>\n",
       "      <td>93</td>\n",
       "      <td>33</td>\n",
       "      <td>...</td>\n",
       "      <td>FRM</td>\n",
       "      <td>KS</td>\n",
       "      <td>SF</td>\n",
       "      <td>66600.0</td>\n",
       "      <td>F108Q1000309</td>\n",
       "      <td>P</td>\n",
       "      <td>360</td>\n",
       "      <td>1</td>\n",
       "      <td>Other sellers</td>\n",
       "      <td>Other servicers</td>\n",
       "    </tr>\n",
       "    <tr>\n",
       "      <th>4</th>\n",
       "      <td>813</td>\n",
       "      <td>200803</td>\n",
       "      <td>N</td>\n",
       "      <td>203802</td>\n",
       "      <td>NaN</td>\n",
       "      <td>0</td>\n",
       "      <td>1</td>\n",
       "      <td>P</td>\n",
       "      <td>74</td>\n",
       "      <td>31</td>\n",
       "      <td>...</td>\n",
       "      <td>FRM</td>\n",
       "      <td>IN</td>\n",
       "      <td>SF</td>\n",
       "      <td>46900.0</td>\n",
       "      <td>F108Q1000343</td>\n",
       "      <td>P</td>\n",
       "      <td>360</td>\n",
       "      <td>1</td>\n",
       "      <td>Other sellers</td>\n",
       "      <td>Other servicers</td>\n",
       "    </tr>\n",
       "  </tbody>\n",
       "</table>\n",
       "<p>5 rows × 25 columns</p>\n",
       "</div>"
      ],
      "text/plain": [
       "   CREDIT_SCORE  FIRST_PAYMENT_DATE FIRST_TIME_HOMEBUYER_FLAG  MATURITY_DATE  \\\n",
       "0           710              200803                         N         203802   \n",
       "1           752              200803                         N         203802   \n",
       "2           738              200803                         N         203802   \n",
       "3           773              200803                         Y         203802   \n",
       "4           813              200803                         N         203802   \n",
       "\n",
       "       MSA  MI  NUMBER_OF_UNITS OCCUPANCY_STATUS  CLTV  ORIGINAL_DTI  ...  \\\n",
       "0      NaN   0                1                P    60            44  ...   \n",
       "1  38860.0   0                1                P    80            47  ...   \n",
       "2      NaN  35                1                P   100            13  ...   \n",
       "3  45820.0  30                1                P    93            33  ...   \n",
       "4      NaN   0                1                P    74            31  ...   \n",
       "\n",
       "   PRODUCT_TYPE  PROPERTY_STATE  PROPERTY_TYPE POSTAL_CODE  \\\n",
       "0           FRM              KY             SF     40400.0   \n",
       "1           FRM              ME             SF      4000.0   \n",
       "2           FRM              IL             SF     61400.0   \n",
       "3           FRM              KS             SF     66600.0   \n",
       "4           FRM              IN             SF     46900.0   \n",
       "\n",
       "  LOAN_SEQUENCE_NUMBER LOAN_PURPOSE ORIGINAL_LOAN_TERM NUMBER_OF_BORROWERS  \\\n",
       "0         F108Q1000136            C                360                   1   \n",
       "1         F108Q1000216            C                360                   1   \n",
       "2         F108Q1000274            P                360                   1   \n",
       "3         F108Q1000309            P                360                   1   \n",
       "4         F108Q1000343            P                360                   1   \n",
       "\n",
       "     SELLER_NAME    SERVICER_NAME  \n",
       "0  Other sellers  Other servicers  \n",
       "1  Other sellers  Other servicers  \n",
       "2  Other sellers  Other servicers  \n",
       "3  Other sellers  Other servicers  \n",
       "4  Other sellers  Other servicers  \n",
       "\n",
       "[5 rows x 25 columns]"
      ]
     },
     "execution_count": 1,
     "metadata": {},
     "output_type": "execute_result"
    }
   ],
   "source": [
    "import pandas as pd\n",
    "import numpy as np\n",
    "#import sample data\n",
    "sample=pd.read_csv(\"sampledata_20082009\")\n",
    "sample.head()"
   ]
  },
  {
   "cell_type": "code",
   "execution_count": 16,
   "metadata": {},
   "outputs": [
    {
     "name": "stdout",
     "output_type": "stream",
     "text": [
      "Before the crisis, the average FICO was 735. \n",
      "After the crisis, the average FICO was 757.\n"
     ]
    }
   ],
   "source": [
    "# Finding 1: After the financial meltdown, loans in general have high credit scores (FICO).(The financial crisis occurred in the third quarter of 2008)\n",
    "before_crisis_FICO=round(sample[sample[\"FIRST_PAYMENT_DATE\"]<200809].mean()[\"CREDIT_SCORE\"])\n",
    "after_crisis_FICO=round(sample[sample[\"FIRST_PAYMENT_DATE\"]>200809].mean()[\"CREDIT_SCORE\"])\n",
    "print('Before the crisis, the average FICO was %3.0f. \\nAfter the crisis, the average FICO was %3.0f.'% (before_crisis_FICO,after_crisis_FICO))"
   ]
  },
  {
   "cell_type": "code",
   "execution_count": 17,
   "metadata": {},
   "outputs": [
    {
     "name": "stdout",
     "output_type": "stream",
     "text": [
      "Before the crisis, the portion of subprime loans was 9.40%. \n",
      "After the crisis, the portion of subprime loans was 2.82%.\n"
     ]
    }
   ],
   "source": [
    "# Finding2: After the financial meltdown, the portion of subprime loans (FICO < 660) decreased substantially in the mortgage portfolio\n",
    "NumSubprimeLoanAfter=len(sample[(sample[\"CREDIT_SCORE\"]<660)&(sample[\"FIRST_PAYMENT_DATE\"]>200809)])\n",
    "NumAfterCrisis=len(sample[(sample[\"FIRST_PAYMENT_DATE\"]>200809)])\n",
    "AfterCrisisPortion=round(NumSubprimeLoanAfter/NumAfterCrisis,4)\n",
    "AfterCrisisPortion\n",
    "NumSubprimeLoanBefore=len(sample[(sample[\"CREDIT_SCORE\"]<660)&(sample[\"FIRST_PAYMENT_DATE\"]<=200809)])\n",
    "NumBeforeCrisis=len(sample[(sample[\"FIRST_PAYMENT_DATE\"]<=200809)])\n",
    "BeforeCrisisPortion=round(NumSubprimeLoanBefore/NumBeforeCrisis,4)\n",
    "BeforeCrisisPortion\n",
    "print('Before the crisis, the portion of subprime loans was %2.2f%c. \\nAfter the crisis, the portion of subprime loans was %2.2f%c.' % (BeforeCrisisPortion*100,'%',AfterCrisisPortion*100,'%'))"
   ]
  },
  {
   "cell_type": "code",
   "execution_count": 18,
   "metadata": {},
   "outputs": [
    {
     "name": "stdout",
     "output_type": "stream",
     "text": [
      "Before the crisis, the portion of purchases was 33.28%. \n",
      "After the crisis, the portion of purchases was 26.74%.\n"
     ]
    }
   ],
   "source": [
    "#Finding3: Before the financial meltdown, portion of purchases was higher.After the meltdown, portions of purchases went down. \n",
    "LoanPurchaseBefore=len(sample[(sample[\"LOAN_PURPOSE\"]=='P')&(sample[\"FIRST_PAYMENT_DATE\"]<=200809)])\n",
    "NumBeforeCrisis=len(sample[(sample[\"FIRST_PAYMENT_DATE\"]<=200809)])\n",
    "Purchase_Portion_Before=LoanPurchaseBefore/NumBeforeCrisis\n",
    "Purchase_Portion_Before\n",
    "LoanPurchaseAfter=len(sample[(sample[\"LOAN_PURPOSE\"]=='P')&(sample[\"FIRST_PAYMENT_DATE\"]>200809)])\n",
    "NumAfterCrisis=len(sample[(sample[\"FIRST_PAYMENT_DATE\"]>200809)])\n",
    "Purchase_Portion_After=LoanPurchaseAfter/NumAfterCrisis\n",
    "Purchase_Portion_After\n",
    "print('Before the crisis, the portion of purchases was %2.2f%c. \\nAfter the crisis, the portion of purchases was %2.2f%c.' % (Purchase_Portion_Before*100,'%',Purchase_Portion_After*100,'%'))"
   ]
  },
  {
   "cell_type": "code",
   "execution_count": 20,
   "metadata": {},
   "outputs": [
    {
     "name": "stdout",
     "output_type": "stream",
     "text": [
      "Before the crisis, the portion of refinancing was 66.72%.The interest rate was 6.15. \n",
      "After the crisis, the portion of refinancing was 73.26%.The interest rate was 5.09\n"
     ]
    }
   ],
   "source": [
    "#Finding4: Lower interest rates in 2009 also boosted the market for refinancing.\n",
    "interestRate_2009=sample[(sample[\"FIRST_PAYMENT_DATE\"]>=200901)&(sample[\"FIRST_PAYMENT_DATE\"]<=200912)][\"ORIGINAL_INTEREST_RATE\"].mean()\n",
    "interestRate_2009\n",
    "interestRate_2008=sample[(sample[\"FIRST_PAYMENT_DATE\"]>=200801)&(sample[\"FIRST_PAYMENT_DATE\"]<=200812)][\"ORIGINAL_INTEREST_RATE\"].mean()\n",
    "interestRate_2008\n",
    "interestRate_2008>interestRate_2009\n",
    "#refinance portion\n",
    "Refinance_before_crises=len(sample[(sample[\"LOAN_PURPOSE\"].isin ([\"C\",\"N\",\"R\"]) )&(sample[\"FIRST_PAYMENT_DATE\"]<=200809)])\n",
    "Refinance_portion_before=Refinance_before_crises/NumBeforeCrisis\n",
    "Refinance_after_crises=len(sample[(sample[\"LOAN_PURPOSE\"].isin ([\"C\",\"N\",\"R\"]) )&(sample[\"FIRST_PAYMENT_DATE\"]>200809)])\n",
    "Refinance_portion_after=Refinance_after_crises/NumAfterCrisis\n",
    "print('Before the crisis, the portion of refinancing was %2.2f%c.The interest rate was %2.2f. \\nAfter the crisis, the portion of refinancing was %2.2f%c.The interest rate was %2.2f' % (Refinance_portion_before*100,'%',interestRate_2008,Refinance_portion_after*100,'%',interestRate_2009))"
   ]
  },
  {
   "cell_type": "code",
   "execution_count": 24,
   "metadata": {},
   "outputs": [
    {
     "data": {
      "text/plain": [
       "13525"
      ]
     },
     "execution_count": 24,
     "metadata": {},
     "output_type": "execute_result"
    }
   ],
   "source": [
    "#Finding 5: The quality of loans originated after meltdown is considerably higher, i.e., their delinquency rate is much lower compared to those loans originated before the meltdown\n",
    "#1. find loan sequence number in sample dataset\n",
    "Loan_unique_id_before=sample[sample[\"FIRST_PAYMENT_DATE\"]<200809][\"LOAN_SEQUENCE_NUMBER\"].unique()\n",
    "len(Loan_unique_id_before)\n",
    "Loan_unique_id_after=sample[sample[\"FIRST_PAYMENT_DATE\"]>=200809][\"LOAN_SEQUENCE_NUMBER\"].unique()\n",
    "len(Loan_unique_id_after)"
   ]
  },
  {
   "cell_type": "code",
   "execution_count": 49,
   "metadata": {},
   "outputs": [],
   "source": [
    "#2.find corresponding historical data of these loans in sample data\n",
    "# load 2008Q1 performance historical data in chunk"
   ]
  },
  {
   "cell_type": "code",
   "execution_count": 25,
   "metadata": {},
   "outputs": [],
   "source": [
    "# define a function to load bigdata in chunk\n",
    "def read_big_data(path):\n",
    "    mylist = []\n",
    "    for chunk in  pd.read_csv(path, sep=\"|\", chunksize=20000,\n",
    "                         header=None,low_memory=False,\n",
    "                         usecols=[0, 1,3, 7,18]):\n",
    "        mylist.append(chunk)\n",
    "    big_data = pd.concat(mylist, axis= 0)\n",
    "    del mylist\n",
    "    big_data.columns=[\"LOAN_SEQUENCE_NUMBER\",\"MONTHLY_REPORTING_PERIOD\",\"CURRENT_LOAN_DELINQUENCY_STATUS\",\"MODIFICATION_FLAG\",\"MAINTENANCE_AND_PRESERVATION_COSTS\"]\n",
    "    return big_data"
   ]
  },
  {
   "cell_type": "code",
   "execution_count": 36,
   "metadata": {},
   "outputs": [],
   "source": [
    "# load 08Q1 performance data\n",
    "big_data08Q1=read_big_data('historical_data1_time_Q12008.txt')\n",
    "big_data08Q1_sample=big_data08Q1[(big_data08Q1[\"LOAN_SEQUENCE_NUMBER\"].isin(Loan_unique_id_before))&(big_data08Q1[\"MONTHLY_REPORTING_PERIOD\"]<=201303)]"
   ]
  },
  {
   "cell_type": "code",
   "execution_count": 37,
   "metadata": {},
   "outputs": [
    {
     "name": "stdout",
     "output_type": "stream",
     "text": [
      "Number of delinquency loan in 08Q1 is 112\n"
     ]
    }
   ],
   "source": [
    "#find delinquency loan in performance data sample\n",
    "#delinquency criteria:\n",
    "#1 loan has reached 90+ days in delinquency\n",
    "#2 A loan has shown recovery amount as recovery usually comes after foreclosure and repossession by the bank (REO)\n",
    "#3 A loan has been modified, i.e., interest rate reduction after negotiating with the bank.\n",
    "delin_loan08Q1=big_data08Q1_sample[(big_data08Q1_sample['CURRENT_LOAN_DELINQUENCY_STATUS']==3)|(big_data08Q1_sample['MODIFICATION_FLAG']=='Y')|(big_data08Q1_sample['MAINTENANCE_AND_PRESERVATION_COSTS']>0)]['LOAN_SEQUENCE_NUMBER'].unique()\n",
    "# number of delinquency loan in 08Q1 is \n",
    "delin_loan08Q1_num=len(delin_loan08Q1)\n",
    "print('Number of delinquency loan in 08Q1 is', delin_loan08Q1_num)"
   ]
  },
  {
   "cell_type": "code",
   "execution_count": 26,
   "metadata": {},
   "outputs": [],
   "source": [
    "# load 08Q2 performance data\n",
    "big_data08Q2=read_big_data('historical_data1_time_Q22008.txt')\n",
    "big_data08Q2_sample=big_data08Q2[(big_data08Q2[\"LOAN_SEQUENCE_NUMBER\"].isin(Loan_unique_id_before))&(big_data08Q2[\"MONTHLY_REPORTING_PERIOD\"]<=201306)]"
   ]
  },
  {
   "cell_type": "code",
   "execution_count": 27,
   "metadata": {},
   "outputs": [
    {
     "name": "stdout",
     "output_type": "stream",
     "text": [
      "Number of delinquency loan in 08Q2 is 64\n"
     ]
    }
   ],
   "source": [
    "delin_loan08Q2=big_data08Q2_sample[(big_data08Q2_sample['CURRENT_LOAN_DELINQUENCY_STATUS']==3)|(big_data08Q2_sample['MODIFICATION_FLAG']=='Y')|(big_data08Q2_sample['MAINTENANCE_AND_PRESERVATION_COSTS']>0)]['LOAN_SEQUENCE_NUMBER'].unique()\n",
    "# number of delinquency loan in 08Q2 is \n",
    "delin_loan08Q2_num=len(delin_loan08Q2)\n",
    "print('Number of delinquency loan in 08Q2 is', delin_loan08Q2_num)"
   ]
  },
  {
   "cell_type": "code",
   "execution_count": 29,
   "metadata": {},
   "outputs": [],
   "source": [
    "# load 08Q3 performance data\n",
    "big_data08Q3=read_big_data('historical_data1_time_Q32008.txt')"
   ]
  },
  {
   "cell_type": "code",
   "execution_count": 30,
   "metadata": {},
   "outputs": [],
   "source": [
    "big_data08Q3_sample=big_data08Q3[(big_data08Q3[\"LOAN_SEQUENCE_NUMBER\"].isin(Loan_unique_id_before))&(big_data08Q3[\"MONTHLY_REPORTING_PERIOD\"]<=201309)]"
   ]
  },
  {
   "cell_type": "code",
   "execution_count": 32,
   "metadata": {},
   "outputs": [
    {
     "name": "stdout",
     "output_type": "stream",
     "text": [
      "Number of delinquency loan in 08Q3 is 2\n"
     ]
    }
   ],
   "source": [
    "#find delinquency loan in big data sample\n",
    "delin_loan08Q3=big_data08Q3_sample[(big_data08Q3_sample['CURRENT_LOAN_DELINQUENCY_STATUS']==3)|(big_data08Q3_sample['MODIFICATION_FLAG']=='Y')|(big_data08Q3_sample['MAINTENANCE_AND_PRESERVATION_COSTS']>0)]['LOAN_SEQUENCE_NUMBER'].unique()\n",
    "# number of delinquency loan in 08Q3 is \n",
    "delin_loan08Q3_num=len(delin_loan08Q3)\n",
    "print('Number of delinquency loan in 08Q3 is', delin_loan08Q3_num)"
   ]
  },
  {
   "cell_type": "code",
   "execution_count": 40,
   "metadata": {},
   "outputs": [
    {
     "name": "stdout",
     "output_type": "stream",
     "text": [
      "Delinquency rate before crisis is 0.0395\n"
     ]
    }
   ],
   "source": [
    "#portion of delinquency loan before crisis\n",
    "porDelinquencyBefore=(delin_loan08Q1_num+delin_loan08Q2_num+delin_loan08Q3_num)/len(Loan_unique_id_before)\n",
    "porDelinquencyBefore\n",
    "print(\"Delinquency rate before crisis is %1.4f\"% porDelinquencyBefore)"
   ]
  },
  {
   "cell_type": "code",
   "execution_count": null,
   "metadata": {},
   "outputs": [],
   "source": [
    "##### After crisis delinquency number "
   ]
  },
  {
   "cell_type": "code",
   "execution_count": 44,
   "metadata": {},
   "outputs": [],
   "source": [
    "# load 08Q4 performance data---after crisis\n",
    "big_data08Q4=read_big_data('historical_data1_time_Q42008.txt')\n",
    "big_data08Q4_sample=big_data08Q4[(big_data08Q4[\"LOAN_SEQUENCE_NUMBER\"].isin(Loan_unique_id_after))&(big_data08Q4[\"MONTHLY_REPORTING_PERIOD\"]<=201312)]"
   ]
  },
  {
   "cell_type": "code",
   "execution_count": 45,
   "metadata": {},
   "outputs": [
    {
     "name": "stdout",
     "output_type": "stream",
     "text": [
      "Number of delinquency loan in 08Q4 is  28\n"
     ]
    }
   ],
   "source": [
    "#find delinquency loan in 08Q4\n",
    "delin_loan08Q4=big_data08Q4_sample[(big_data08Q4_sample['CURRENT_LOAN_DELINQUENCY_STATUS']==3)|(big_data08Q4_sample['MODIFICATION_FLAG']=='Y')|(big_data08Q4_sample['MAINTENANCE_AND_PRESERVATION_COSTS']>0)]['LOAN_SEQUENCE_NUMBER'].unique()\n",
    "# number of delinquency loan in 08Q4 is \n",
    "delin_loan08Q4_num=len(delin_loan08Q4)\n",
    "print('Number of delinquency loan in 08Q4 is ', delin_loan08Q4_num)"
   ]
  },
  {
   "cell_type": "code",
   "execution_count": 46,
   "metadata": {},
   "outputs": [],
   "source": [
    "# load 09Q1 performance data---after crisis\n",
    "big_data09Q1=read_big_data('historical_data1_time_Q12009.txt')"
   ]
  },
  {
   "cell_type": "code",
   "execution_count": 47,
   "metadata": {},
   "outputs": [],
   "source": [
    "big_data09Q1_sample=big_data09Q1[(big_data09Q1[\"LOAN_SEQUENCE_NUMBER\"].isin(Loan_unique_id_after))&(big_data09Q1[\"MONTHLY_REPORTING_PERIOD\"]<=201403)]"
   ]
  },
  {
   "cell_type": "code",
   "execution_count": 48,
   "metadata": {},
   "outputs": [
    {
     "name": "stdout",
     "output_type": "stream",
     "text": [
      "Number of delinquency loan in 09Q1 is  18\n"
     ]
    }
   ],
   "source": [
    "#find delinquency loan in 09Q1\n",
    "delin_loan09Q1=big_data09Q1_sample[(big_data09Q1_sample['CURRENT_LOAN_DELINQUENCY_STATUS']==3)|(big_data09Q1_sample['MODIFICATION_FLAG']=='Y')|(big_data09Q1_sample['MAINTENANCE_AND_PRESERVATION_COSTS']>0)]['LOAN_SEQUENCE_NUMBER'].unique()\n",
    "# number of delinquency loan in 09Q1 is \n",
    "delin_loan09Q1_num=len(delin_loan09Q1)\n",
    "print('Number of delinquency loan in 09Q1 is ', delin_loan09Q1_num)"
   ]
  },
  {
   "cell_type": "code",
   "execution_count": 49,
   "metadata": {},
   "outputs": [],
   "source": [
    "# load 09Q2 performance data---after crisis\n",
    "big_data09Q2=read_big_data('historical_data1_time_Q22009.txt')"
   ]
  },
  {
   "cell_type": "code",
   "execution_count": 50,
   "metadata": {},
   "outputs": [],
   "source": [
    "big_data09Q2_sample=big_data09Q2[(big_data09Q2[\"LOAN_SEQUENCE_NUMBER\"].isin(Loan_unique_id_after))&(big_data09Q2[\"MONTHLY_REPORTING_PERIOD\"]<=201406)]"
   ]
  },
  {
   "cell_type": "code",
   "execution_count": 51,
   "metadata": {},
   "outputs": [
    {
     "name": "stdout",
     "output_type": "stream",
     "text": [
      "Number of delinquency loan in 09Q2 is  17\n"
     ]
    }
   ],
   "source": [
    "#find delinquency loan in 09Q2\n",
    "delin_loan09Q2=big_data09Q2_sample[(big_data09Q2_sample['CURRENT_LOAN_DELINQUENCY_STATUS']==3)|(big_data09Q2_sample['MODIFICATION_FLAG']=='Y')|(big_data09Q2_sample['MAINTENANCE_AND_PRESERVATION_COSTS']>0)]['LOAN_SEQUENCE_NUMBER'].unique()\n",
    "# number of delinquency loan in 09Q2 is \n",
    "delin_loan09Q2_num=len(delin_loan09Q2)\n",
    "print('Number of delinquency loan in 09Q2 is ', delin_loan09Q2_num)"
   ]
  },
  {
   "cell_type": "code",
   "execution_count": 52,
   "metadata": {},
   "outputs": [],
   "source": [
    "# load 09Q3 performance data---after crisis\n",
    "big_data09Q3=read_big_data('historical_data1_time_Q32009.txt')"
   ]
  },
  {
   "cell_type": "code",
   "execution_count": 53,
   "metadata": {},
   "outputs": [],
   "source": [
    "big_data09Q3_sample=big_data09Q3[(big_data09Q3[\"LOAN_SEQUENCE_NUMBER\"].isin(Loan_unique_id_after))&(big_data09Q3[\"MONTHLY_REPORTING_PERIOD\"]<=201409)]"
   ]
  },
  {
   "cell_type": "code",
   "execution_count": 54,
   "metadata": {},
   "outputs": [
    {
     "name": "stdout",
     "output_type": "stream",
     "text": [
      "Number of delinquency loan in 09Q3 is  9\n"
     ]
    }
   ],
   "source": [
    "#find delinquency loan in 09Q3\n",
    "delin_loan09Q3=big_data09Q3_sample[(big_data09Q3_sample['CURRENT_LOAN_DELINQUENCY_STATUS']==3)|(big_data09Q3_sample['MODIFICATION_FLAG']=='Y')|(big_data09Q3_sample['MAINTENANCE_AND_PRESERVATION_COSTS']>0)]['LOAN_SEQUENCE_NUMBER'].unique()\n",
    "# number of delinquency loan in 09Q3 is \n",
    "delin_loan09Q3_num=len(delin_loan09Q3)\n",
    "print('Number of delinquency loan in 09Q3 is ', delin_loan09Q3_num)"
   ]
  },
  {
   "cell_type": "code",
   "execution_count": 55,
   "metadata": {},
   "outputs": [],
   "source": [
    "# load 09Q4 performance data---after crisis\n",
    "big_data09Q4=read_big_data('historical_data1_time_Q42009.txt')"
   ]
  },
  {
   "cell_type": "code",
   "execution_count": 56,
   "metadata": {},
   "outputs": [],
   "source": [
    "big_data09Q4_sample=big_data09Q4[(big_data09Q4[\"LOAN_SEQUENCE_NUMBER\"].isin(Loan_unique_id_after))&(big_data09Q4[\"MONTHLY_REPORTING_PERIOD\"]<=201412)]"
   ]
  },
  {
   "cell_type": "code",
   "execution_count": 57,
   "metadata": {},
   "outputs": [
    {
     "name": "stdout",
     "output_type": "stream",
     "text": [
      "Number of delinquency loan in 09Q4 is  5\n"
     ]
    }
   ],
   "source": [
    "#find delinquency loan in 09Q4\n",
    "delin_loan09Q4=big_data09Q4_sample[(big_data09Q4_sample['CURRENT_LOAN_DELINQUENCY_STATUS']==3)|(big_data09Q4_sample['MODIFICATION_FLAG']=='Y')|(big_data09Q4_sample['MAINTENANCE_AND_PRESERVATION_COSTS']>0)]['LOAN_SEQUENCE_NUMBER'].unique()\n",
    "# number of delinquency loan in 09Q4 is \n",
    "delin_loan09Q4_num=len(delin_loan09Q4)\n",
    "print('Number of delinquency loan in 09Q4 is ', delin_loan09Q4_num)"
   ]
  },
  {
   "cell_type": "code",
   "execution_count": 61,
   "metadata": {
    "scrolled": true
   },
   "outputs": [
    {
     "name": "stdout",
     "output_type": "stream",
     "text": [
      "Delinquency rate After crisis is 0.0057\n"
     ]
    }
   ],
   "source": [
    "#portion of delinquency loan after crisis\n",
    "porDelinquencyAfter=(delin_loan08Q4_num+delin_loan09Q1_num+delin_loan09Q2_num+delin_loan09Q3_num+delin_loan09Q4_num)/len(Loan_unique_id_after)\n",
    "porDelinquencyAfter\n",
    "print(\"Delinquency rate After crisis is %.4f\"% porDelinquencyAfter)"
   ]
  },
  {
   "cell_type": "code",
   "execution_count": 63,
   "metadata": {},
   "outputs": [
    {
     "name": "stdout",
     "output_type": "stream",
     "text": [
      "Before the crisis, the delinquency rate was 0.0395. \n",
      "After the crisis, the delinquency rate was 0.0057.\n"
     ]
    }
   ],
   "source": [
    "print('Before the crisis, the delinquency rate was %.4f. \\nAfter the crisis, the delinquency rate was %.4f.'% (porDelinquencyBefore,porDelinquencyAfter))"
   ]
  }
 ],
 "metadata": {
  "kernelspec": {
   "display_name": "Python 3",
   "language": "python",
   "name": "python3"
  },
  "language_info": {
   "codemirror_mode": {
    "name": "ipython",
    "version": 3
   },
   "file_extension": ".py",
   "mimetype": "text/x-python",
   "name": "python",
   "nbconvert_exporter": "python",
   "pygments_lexer": "ipython3",
   "version": "3.7.6"
  }
 },
 "nbformat": 4,
 "nbformat_minor": 4
}
